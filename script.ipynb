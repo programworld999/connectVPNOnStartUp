{
 "cells": [
  {
   "cell_type": "code",
   "execution_count": 14,
   "metadata": {},
   "outputs": [],
   "source": [
    "import urllib\n",
    "import time\n",
    "import os"
   ]
  },
  {
   "cell_type": "code",
   "execution_count": 15,
   "metadata": {},
   "outputs": [],
   "source": [
    "def connectVPN():\n",
    "    connected = False\n",
    "    try:\n",
    "        os.system(\"windscribe connect\")\n",
    "        connected = True\n",
    "    except :\n",
    "        connected = False\n",
    "    return connected"
   ]
  },
  {
   "cell_type": "code",
   "execution_count": 16,
   "metadata": {},
   "outputs": [
    {
     "name": "stdout",
     "output_type": "stream",
     "text": [
      "Up and running.\n",
      "\u001b[0m|\u001b[1;32;40m VPN Connected! \u001b[0m\n"
     ]
    }
   ],
   "source": [
    "if __name__ == \"__main__\":\n",
    "    loop_value = 1\n",
    "    while (loop_value):\n",
    "        try:\n",
    "            urlopen(\"http://google.com\")\n",
    "        except:\n",
    "            print(\"Network currently down.\")\n",
    "        else:\n",
    "            print(\"Up and running.\")\n",
    "            loop_value = 0\n",
    "            if(connectVPN()):\n",
    "                print(\"\\033[0m|\\033[1;32;40m VPN Connected! \\033[0m\")\n",
    "            else:\n",
    "                print(\"\\033[0m|\\033[0;37;41m VPN Not Connected \\033[0m\")\n",
    "        time.sleep(2)"
   ]
  },
  {
   "cell_type": "code",
   "execution_count": null,
   "metadata": {},
   "outputs": [],
   "source": []
  }
 ],
 "metadata": {
  "kernelspec": {
   "display_name": "Python 3",
   "language": "python",
   "name": "python3"
  },
  "language_info": {
   "codemirror_mode": {
    "name": "ipython",
    "version": 3
   },
   "file_extension": ".py",
   "mimetype": "text/x-python",
   "name": "python",
   "nbconvert_exporter": "python",
   "pygments_lexer": "ipython3",
   "version": "3.6.8"
  }
 },
 "nbformat": 4,
 "nbformat_minor": 4
}
